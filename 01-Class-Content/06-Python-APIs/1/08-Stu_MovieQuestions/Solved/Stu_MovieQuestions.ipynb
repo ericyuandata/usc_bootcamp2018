{
 "cells": [
  {
   "cell_type": "code",
   "execution_count": 1,
   "metadata": {},
   "outputs": [],
   "source": [
    "# Dependencies\n",
    "import requests\n",
    "\n",
    "url = \"http://www.omdbapi.com/?apikey=trilogy&t=\""
   ]
  },
  {
   "cell_type": "code",
   "execution_count": 2,
   "metadata": {},
   "outputs": [
    {
     "name": "stdout",
     "output_type": "stream",
     "text": [
      "The director of Aliens was James Cameron.\n"
     ]
    }
   ],
   "source": [
    "# Who was the director of the movie Aliens?\n",
    "movie = requests.get(url + \"Aliens\").json()\n",
    "print(f'The director of Aliens was {movie[\"Director\"]}.')"
   ]
  },
  {
   "cell_type": "code",
   "execution_count": 3,
   "metadata": {},
   "outputs": [
    {
     "data": {
      "text/plain": [
       "{'Title': 'Aliens',\n",
       " 'Year': '1986',\n",
       " 'Rated': 'R',\n",
       " 'Released': '18 Jul 1986',\n",
       " 'Runtime': '137 min',\n",
       " 'Genre': 'Action, Adventure, Sci-Fi',\n",
       " 'Director': 'James Cameron',\n",
       " 'Writer': \"James Cameron (story by), David Giler (story by), Walter Hill (story by), Dan O'Bannon (based on characters created by), Ronald Shusett (based on characters created by), James Cameron (screenplay by)\",\n",
       " 'Actors': 'Sigourney Weaver, Carrie Henn, Michael Biehn, Paul Reiser',\n",
       " 'Plot': 'Ellen Ripley is rescued by a deep salvage team after being in hypersleep for 57 years. The moon that the Nostromo visited has been colonized, but contact is lost. This time, colonial marines have impressive firepower, but will that be enough?',\n",
       " 'Language': 'English',\n",
       " 'Country': 'USA',\n",
       " 'Awards': 'Won 2 Oscars. Another 18 wins & 22 nominations.',\n",
       " 'Poster': 'https://ia.media-imdb.com/images/M/MV5BYzVlMWViZGEtYjEyYy00YWZmLThmZGEtYmM4MDZlN2Q5MmRmXkEyXkFqcGdeQXVyMTQxNzMzNDI@._V1_SX300.jpg',\n",
       " 'Ratings': [{'Source': 'Internet Movie Database', 'Value': '8.4/10'},\n",
       "  {'Source': 'Rotten Tomatoes', 'Value': '98%'},\n",
       "  {'Source': 'Metacritic', 'Value': '86/100'}],\n",
       " 'Metascore': '86',\n",
       " 'imdbRating': '8.4',\n",
       " 'imdbVotes': '564,792',\n",
       " 'imdbID': 'tt0090605',\n",
       " 'Type': 'movie',\n",
       " 'DVD': '01 Jun 1999',\n",
       " 'BoxOffice': 'N/A',\n",
       " 'Production': '20th Century Fox Film Corporat',\n",
       " 'Website': 'N/A',\n",
       " 'Response': 'True'}"
      ]
     },
     "execution_count": 3,
     "metadata": {},
     "output_type": "execute_result"
    }
   ],
   "source": [
    "movie"
   ]
  },
  {
   "cell_type": "code",
   "execution_count": 3,
   "metadata": {
    "scrolled": true
   },
   "outputs": [
    {
     "name": "stdout",
     "output_type": "stream",
     "text": [
      "The rating of Gladiator was R.\n"
     ]
    }
   ],
   "source": [
    "# What was the movie Gladiator rated?\n",
    "movie = requests.get(url + \"Gladiator\").json()\n",
    "print(f'The rating of Gladiator was {movie[\"Rated\"]}.')"
   ]
  },
  {
   "cell_type": "code",
   "execution_count": 4,
   "metadata": {},
   "outputs": [
    {
     "name": "stdout",
     "output_type": "stream",
     "text": [
      "The movie 50 First Dates was released in 2004.\n"
     ]
    }
   ],
   "source": [
    "# What year was 50 First Dates released?\n",
    "movie = requests.get(url + \"50 First Dates\").json()\n",
    "print(f'The movie 50 First Dates was released in {movie[\"Year\"]}.')"
   ]
  },
  {
   "cell_type": "code",
   "execution_count": 5,
   "metadata": {
    "scrolled": true
   },
   "outputs": [
    {
     "name": "stdout",
     "output_type": "stream",
     "text": [
      "Moana was written by Jared Bush (screenplay by), Ron Clements (story by), John Musker (story by), Chris Williams (story by), Don Hall (story by), Pamela Ribon (story by), Aaron Kandell (story by), Jordan Kandell (story by).\n"
     ]
    }
   ],
   "source": [
    "# Who wrote Moana?\n",
    "movie = requests.get(url + \"Moana\").json()\n",
    "print(f'Moana was written by {movie[\"Writer\"]}.')"
   ]
  },
  {
   "cell_type": "code",
   "execution_count": 6,
   "metadata": {
    "scrolled": true
   },
   "outputs": [
    {
     "name": "stdout",
     "output_type": "stream",
     "text": [
      "The plot of Sing was: In a city of humanoid animals, a hustling theater impresario's attempt to save his theater with a singing competition becomes grander than he anticipates even as its finalists' find that their lives will never be the same.\n"
     ]
    }
   ],
   "source": [
    "# What was the plot of the movie Sing?\n",
    "movie = requests.get(url + \"Sing\").json()\n",
    "print(f'The plot of Sing was: {movie[\"Plot\"]}')"
   ]
  }
 ],
 "metadata": {
  "kernelspec": {
   "display_name": "Python 3",
   "language": "python",
   "name": "python3"
  },
  "language_info": {
   "codemirror_mode": {
    "name": "ipython",
    "version": 3
   },
   "file_extension": ".py",
   "mimetype": "text/x-python",
   "name": "python",
   "nbconvert_exporter": "python",
   "pygments_lexer": "ipython3",
   "version": "3.6.5"
  },
  "varInspector": {
   "cols": {
    "lenName": 16,
    "lenType": 16,
    "lenVar": 40
   },
   "kernels_config": {
    "python": {
     "delete_cmd_postfix": "",
     "delete_cmd_prefix": "del ",
     "library": "var_list.py",
     "varRefreshCmd": "print(var_dic_list())"
    },
    "r": {
     "delete_cmd_postfix": ") ",
     "delete_cmd_prefix": "rm(",
     "library": "var_list.r",
     "varRefreshCmd": "cat(var_dic_list()) "
    }
   },
   "types_to_exclude": [
    "module",
    "function",
    "builtin_function_or_method",
    "instance",
    "_Feature"
   ],
   "window_display": false
  }
 },
 "nbformat": 4,
 "nbformat_minor": 2
}
